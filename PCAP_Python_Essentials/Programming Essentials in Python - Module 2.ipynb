{
 "cells": [
  {
   "cell_type": "markdown",
   "metadata": {},
   "source": [
    "## Module coverage:\n",
    "•\tData types;\n",
    "\n",
    "•\tVariables;\n",
    "\n",
    "•\tBasic input-output operations;\n",
    "\n",
    "•\tBasic operators."
   ]
  },
  {
   "cell_type": "markdown",
   "metadata": {},
   "source": [
    "### The print() function\n",
    "\n",
    "   The word print is a function name. That doesn't mean that wherever the word appears it is always a function name. The meaning of the word comes from the context in which the word has been used."
   ]
  },
  {
   "cell_type": "markdown",
   "metadata": {},
   "source": [
    "   A function is a separate part of the computer code able to:\n",
    "   \n",
    "•\tCause some effect (e.g., send text to the terminal, create a file, draw an image, play a sound, etc.);\n",
    "\n",
    "•\tEvaluate a value or some values (e.g., the square root of a value or the length of a given text);\n",
    "\n",
    "Where do the functions come from?\n",
    "\n",
    "•\tThey may come from Python itself;\n",
    "\n",
    "•\tThey may come from one or more of Python's add-ons named modules;\n",
    "\n",
    "•\tYou can write them yourself, placing as many functions as you want and need inside your program to make it simpler, clearer and more elegant."
   ]
  },
  {
   "cell_type": "markdown",
   "metadata": {},
   "source": [
    "The name of the function should be significant (the name of the print function is self-evident)."
   ]
  },
  {
   "cell_type": "markdown",
   "metadata": {},
   "source": [
    "As we said before, a function may have an effect and a result. There's also a third, very important, function component – the argument(s)."
   ]
  },
  {
   "cell_type": "markdown",
   "metadata": {},
   "source": [
    "Python functions are versatile. Depending on the individual needs, they may accept any number of arguments – as many as necessary to perform their tasks. In spite of the number of needed/provided arguments, Python functions strongly demand the presence of a pair of parentheses – opening and closing ones, respectively."
   ]
  },
  {
   "cell_type": "markdown",
   "metadata": {},
   "source": [
    "If you want to deliver one or more arguments to a function, you place them inside the parentheses. If you're going to use a function which doesn't take any argument, you still have to have the parentheses."
   ]
  },
  {
   "cell_type": "markdown",
   "metadata": {},
   "source": [
    "Does the print() function in our example have any arguments? Of course it does, but what are they? The only argument delivered to the print() function is a string: print(\"Hello, World!\")"
   ]
  },
  {
   "cell_type": "markdown",
   "metadata": {},
   "source": [
    "As you can see, the string is delimited with quotes – in fact, the quotes make the string – they cut out a part of the code and assign a different meaning to it.\n",
    "\n",
    "Almost anything you put inside the quotes will be taken literally, not as code, but as data."
   ]
  },
  {
   "cell_type": "markdown",
   "metadata": {},
   "source": [
    "Until now, we've talked about functions in terms of syntax, but now we are discuss them in terms of semantics."
   ]
  },
  {
   "cell_type": "markdown",
   "metadata": {},
   "source": [
    "The function name (print in this case) along with the parentheses and argument(s), forms the function invocation."
   ]
  },
  {
   "cell_type": "markdown",
   "metadata": {},
   "source": [
    "What happens when Python encounters an invocation like: function_name(argument)\n",
    "\n",
    "Let's see:\n",
    "\n",
    "•\tFirst, Python checks if the name specified is legal (it browses its internal data in order to find an existing function of the name; if this search fails, Python aborts the code);\n",
    "\n",
    "•\tSecond, Python checks if the function's requirements for the number of arguments allows you to invoke the function in this way (e.g., if a specific function demands exactly two arguments, any invocation delivering only one argument will be considered erroneous, and will abort the code's execution);\n",
    "\n",
    "•\tThird, Python leaves your code for a moment and jumps into the function you want to invoke; of course, it takes your argument(s) too and passes it/them to the function;\n",
    "\n",
    "•\tFourth, the function executes its code, causes the desired effect (if any), evaluates the desired result(s) (if any) and finishes its task;\n",
    "\n",
    "•\tFinally, Python returns to your code (to the place just after the invocation) and resumes its execution."
   ]
  },
  {
   "cell_type": "markdown",
   "metadata": {},
   "source": []
  }
 ],
 "metadata": {
  "kernelspec": {
   "display_name": "Python 3",
   "language": "python",
   "name": "python3"
  },
  "language_info": {
   "codemirror_mode": {
    "name": "ipython",
    "version": 3
   },
   "file_extension": ".py",
   "mimetype": "text/x-python",
   "name": "python",
   "nbconvert_exporter": "python",
   "pygments_lexer": "ipython3",
   "version": "3.7.6"
  }
 },
 "nbformat": 4,
 "nbformat_minor": 4
}
