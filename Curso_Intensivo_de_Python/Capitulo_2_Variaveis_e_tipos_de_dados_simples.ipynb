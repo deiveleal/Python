{
 "cells": [
  {
   "cell_type": "markdown",
   "metadata": {},
   "source": [
    "# Strings\n",
    "\n",
    "- Série de caracteres\n",
    "- Tudo que estiver entre aspas é considerada uma string em Python\n",
    "- Pode ser usado aspas simples ou duplas, mas não intercambiar entre elas"
   ]
  },
  {
   "cell_type": "markdown",
   "metadata": {},
   "source": [
    "### Mudando para letras maiúsculas e minúsculas em uma string usando métodos\n",
    "\n",
    "- Método title(): Exibe cada palavra da string com a primeira letra maiúscula"
   ]
  },
  {
   "cell_type": "code",
   "execution_count": 1,
   "metadata": {},
   "outputs": [
    {
     "output_type": "stream",
     "name": "stdout",
     "text": [
      "São Paulo\n"
     ]
    }
   ],
   "source": [
    "#Exemplo do método title\n",
    "cidade = \"são paulo\"\n",
    "print(cidade.title())"
   ]
  },
  {
   "cell_type": "markdown",
   "metadata": {},
   "source": [
    "- Método upper(): Exibe todas as letras da string com letras maiúsculas"
   ]
  },
  {
   "cell_type": "code",
   "execution_count": 2,
   "metadata": {},
   "outputs": [
    {
     "output_type": "stream",
     "name": "stdout",
     "text": [
      "SÃO PAULO\n"
     ]
    }
   ],
   "source": [
    "#Exemplo do método upper\n",
    "cidade = \"são paulo\"\n",
    "print(cidade.upper())"
   ]
  },
  {
   "cell_type": "markdown",
   "metadata": {},
   "source": [
    "- Método lower(): Exibe todas as letras da string com letras minúsculas"
   ]
  },
  {
   "cell_type": "code",
   "execution_count": 3,
   "metadata": {},
   "outputs": [
    {
     "output_type": "stream",
     "name": "stdout",
     "text": [
      "são paulo\n"
     ]
    }
   ],
   "source": [
    "#Exemplo do método lower\n",
    "cidade = \"SÃO PAULO\"\n",
    "print(cidade.lower())"
   ]
  },
  {
   "cell_type": "markdown",
   "metadata": {},
   "source": [
    "### Combinando ou concatenando strings\n",
    "\n",
    "- O símbolo + é utilizado para concatenar strings que estão separadas\n",
    "- Observa-se que a concatenação é direta, se houver necessidade de espaço esses devem ser inseridos diretamente."
   ]
  },
  {
   "cell_type": "code",
   "execution_count": 4,
   "metadata": {},
   "outputs": [
    {
     "output_type": "stream",
     "name": "stdout",
     "text": [
      "DavidLeal\nDavid Leal\nDavid Leal\n"
     ]
    }
   ],
   "source": [
    "#Exemplos de concatenações\n",
    "primeiro_nome = \"David\"\n",
    "sobrenome = \"Leal\"\n",
    "#Concatenação sem espaço\n",
    "print(primeiro_nome + sobrenome)\n",
    "#Concatenação com espaço\n",
    "print(primeiro_nome + \" \" + sobrenome)\n",
    "#Concatenação já na variável\n",
    "concatenado = primeiro_nome + \" \" + sobrenome\n",
    "print(concatenado)"
   ]
  },
  {
   "cell_type": "markdown",
   "metadata": {},
   "source": [
    "### Acrescentando espaços em branco em strings com tabulações ou quebras de linhas\n",
    "\n",
    "- \\t -> Acrescenta tabulação ao texto"
   ]
  },
  {
   "cell_type": "code",
   "execution_count": 5,
   "metadata": {},
   "outputs": [
    {
     "output_type": "stream",
     "name": "stdout",
     "text": [
      "Sem tabulação\n\tCom tabulação\n"
     ]
    }
   ],
   "source": [
    "#Exemplo de uso de \\t para tabulação\n",
    "print('Sem tabulação')\n",
    "print('\\tCom tabulação')"
   ]
  },
  {
   "cell_type": "markdown",
   "metadata": {},
   "source": [
    "- \\n -> Realiza a quebra da linha no texto"
   ]
  },
  {
   "cell_type": "code",
   "execution_count": 6,
   "metadata": {},
   "outputs": [
    {
     "output_type": "stream",
     "name": "stdout",
     "text": [
      "Sem quebra de linha\nCom \nquebra \nde \nlinha\n"
     ]
    }
   ],
   "source": [
    "#Exemplo de uso de quebra de linha\n",
    "print('Sem quebra de linha')\n",
    "print('Com \\nquebra \\nde \\nlinha')"
   ]
  },
  {
   "cell_type": "markdown",
   "metadata": {},
   "source": [
    "### Removendo espaços em branco\n",
    "\n",
    "- Método rstrip(): Retira os espaços em branco que estão do lado direito da string\n",
    "- Método lstrip(): Retira os espaços em branco que estão do lado esquerdo da string\n",
    "- Método strip(): Retira os espaços em branco que estão de ambos os lados da string"
   ]
  },
  {
   "cell_type": "code",
   "execution_count": 7,
   "metadata": {},
   "outputs": [
    {
     "output_type": "stream",
     "name": "stdout",
     "text": [
      "Com espaço à esqueda:    STRING COM ESPAÇOS    : Com espaço à direita\nrstrip():    STRING COM ESPAÇOS :rstrip()\nlstrip(): STRING COM ESPAÇOS    :lstrip()\nstrip(): STRING COM ESPAÇOS :strip()\n"
     ]
    }
   ],
   "source": [
    "string_com_espaço = '   STRING COM ESPAÇOS   '\n",
    "print('Com espaço à esqueda:', string_com_espaço , ': Com espaço à direita')\n",
    "#Exemplo de uso do método rstrip()\n",
    "print('rstrip():', string_com_espaço.rstrip(), ':rstrip()' )\n",
    "#Exemplo de uso do método lstrip()\n",
    "print('lstrip():', string_com_espaço.lstrip(), ':lstrip()')\n",
    "#Exemplo de uso do método strip()\n",
    "print('strip():', string_com_espaço.strip(), ':strip()')"
   ]
  },
  {
   "cell_type": "markdown",
   "metadata": {},
   "source": [
    "### Erros com a função print()\n",
    "\n",
    "- É comum que ao apresentar valores pela função print e querer concatenar número com strings e isso causa erro, visto que o interpretador não vai conseguir identificar por conta própria o tipo de dado.\n",
    "- Para resolver usa-se o método str() que vai transformar o valor entre parêntese em uma string e assim evitar o erro."
   ]
  },
  {
   "cell_type": "code",
   "execution_count": 8,
   "metadata": {},
   "outputs": [
    {
     "output_type": "error",
     "ename": "TypeError",
     "evalue": "can only concatenate str (not \"int\") to str",
     "traceback": [
      "\u001b[1;31m---------------------------------------------------------------------------\u001b[0m",
      "\u001b[1;31mTypeError\u001b[0m                                 Traceback (most recent call last)",
      "\u001b[1;32m<ipython-input-8-2d5d0663a4e5>\u001b[0m in \u001b[0;36m<module>\u001b[1;34m\u001b[0m\n\u001b[0;32m      1\u001b[0m \u001b[1;31m#Função print com erro de concatenação\u001b[0m\u001b[1;33m\u001b[0m\u001b[1;33m\u001b[0m\u001b[1;33m\u001b[0m\u001b[0m\n\u001b[1;32m----> 2\u001b[1;33m \u001b[0mprint\u001b[0m\u001b[1;33m(\u001b[0m\u001b[1;34m'Dia '\u001b[0m \u001b[1;33m+\u001b[0m \u001b[1;36m5\u001b[0m \u001b[1;33m+\u001b[0m \u001b[1;34m' de agosto é meu aniversário'\u001b[0m\u001b[1;33m)\u001b[0m\u001b[1;33m\u001b[0m\u001b[1;33m\u001b[0m\u001b[0m\n\u001b[0m",
      "\u001b[1;31mTypeError\u001b[0m: can only concatenate str (not \"int\") to str"
     ]
    }
   ],
   "source": [
    "#Função print com erro de concatenação\n",
    "print('Dia ' + 5 + ' de agosto é meu aniversário')"
   ]
  },
  {
   "cell_type": "code",
   "execution_count": 9,
   "metadata": {
    "tags": []
   },
   "outputs": [
    {
     "output_type": "stream",
     "name": "stdout",
     "text": [
      "Dia 5 de agosto é meu aniversário\n"
     ]
    }
   ],
   "source": [
    "#Função print sem erro de concatenação com uso do método str()\n",
    "print('Dia ' + str(5) + ' de agosto é meu aniversário')"
   ]
  },
  {
   "cell_type": "markdown",
   "metadata": {},
   "source": [
    "# Números\n",
    "\n",
    "- Python trata número de várias maneiras diferentes, de acordo com o modo cmo são usados."
   ]
  },
  {
   "cell_type": "markdown",
   "metadata": {},
   "source": [
    "## Inteiros\n",
    "\n",
    "- Pode-se somar(+), subtrair(-), multiplicar(*) e dividir(/) inteiros.\n",
    "- Para calculo de exponenciais usa-se dois símbolos de multiplicar (**).\n",
    "- A ordem das operações são mantidas.\n",
    "- Parênteses modificam a ordem das operações."
   ]
  },
  {
   "cell_type": "code",
   "execution_count": 3,
   "metadata": {
    "tags": []
   },
   "outputs": [
    {
     "output_type": "stream",
     "name": "stdout",
     "text": "Resultado soma: 5\nResultado subtração: 3\nResultado multiplicação: 6\nResultado divisão: 2.0\nResultado exponênciação: 16\nResultado ordem das operações: 13\nResultado da alteração da ordem das operações com parêntese: 25\n"
    }
   ],
   "source": [
    "#Exemplos:\n",
    "#Soma\n",
    "print('Resultado soma:', 2+3)\n",
    "#Subtração\n",
    "print('Resultado subtração:', 5-2)\n",
    "#Multiplicação\n",
    "print('Resultado multiplicação:', 2*3)\n",
    "#Divisão\n",
    "print('Resultado divisão:', 4/2)\n",
    "#Exponêncial\n",
    "print('Resultado exponênciação:', 4**2)\n",
    "#Ordem das operações\n",
    "print('Resultado ordem das operações:', 5*2+3)\n",
    "#Modificação da ordem pelo uso de parênteses\n",
    "print('Resultado da alteração da ordem das operações com parêntese:', 5*(2+3))"
   ]
  },
  {
   "cell_type": "markdown",
   "metadata": {},
   "source": [
    "## Números de ponto flutuante\n",
    "\n",
    "- Python chama qualquer número com um ponto decimal de número de ponto flutuante (float)\n",
    "- Ponto flutuante refere-se ao fato da vírgula poder aparecer em qualquer posição em um número\n"
   ]
  },
  {
   "cell_type": "code",
   "execution_count": 6,
   "metadata": {
    "tags": []
   },
   "outputs": [
    {
     "output_type": "stream",
     "name": "stdout",
     "text": "Ponto flutante: 21245.45646\nResultado de operação com ponto flutuante:  25.2\n"
    }
   ],
   "source": [
    "#Exemplo de ponto flutuante\n",
    "print('Ponto flutante:', 21245.45646)\n",
    "#Exemplo de resultado de operação com ponto flutuante\n",
    "print('Resultado de operação com ponto flutuante: ', 7.56 / 0.3)\n"
   ]
  },
  {
   "cell_type": "markdown",
   "metadata": {},
   "source": [
    "## Comentários\n",
    "\n",
    "- Para indicar ao interpretador python que uma linha é um comentário utiliza-se o símbolo de sharp/jogo da velha (#) no início do comentário\n",
    "- Comentários são ignorados pelo interpretador na execução das linhas do programa"
   ]
  },
  {
   "cell_type": "code",
   "execution_count": 11,
   "metadata": {
    "tags": []
   },
   "outputs": [
    {
     "output_type": "stream",
     "name": "stdout",
     "text": "Este é um comentário inválido pois não tem # no início.\n"
    }
   ],
   "source": [
    "#print('Este é um comentário válido')\n",
    "print('Este é um comentário inválido pois não tem # no início.')"
   ]
  },
  {
   "cell_type": "code",
   "execution_count": null,
   "metadata": {},
   "outputs": [],
   "source": []
  }
 ],
 "metadata": {
  "kernelspec": {
   "name": "Python 3.8.6 64-bit ('python_38')",
   "display_name": "Python 3.8.6 64-bit ('python_38')",
   "metadata": {
    "interpreter": {
     "hash": "b4ade738842e035da46c7e329f398fb8eab32daf26e2975c17c1878219f1288b"
    }
   }
  },
  "language_info": {
   "codemirror_mode": {
    "name": "ipython",
    "version": 3
   },
   "file_extension": ".py",
   "mimetype": "text/x-python",
   "name": "python",
   "nbconvert_exporter": "python",
   "pygments_lexer": "ipython3",
   "version": "3.8.6-final"
  }
 },
 "nbformat": 4,
 "nbformat_minor": 4
}