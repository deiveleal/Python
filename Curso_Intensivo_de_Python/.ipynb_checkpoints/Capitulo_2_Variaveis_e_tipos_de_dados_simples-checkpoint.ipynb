{
 "cells": [
  {
   "cell_type": "markdown",
   "metadata": {},
   "source": [
    "# Strings\n",
    "\n",
    "- Série de caracteres\n",
    "- Tudo que estiver entre aspas é considerada uma string em Python\n",
    "- Pode ser usado aspas simples ou duplas, mas não intercambiar entre elas"
   ]
  },
  {
   "cell_type": "markdown",
   "metadata": {},
   "source": [
    "### Mudando para letras maiúsculas e minúsculas em uma string usando métodos\n",
    "\n"
   ]
  },
  {
   "cell_type": "markdown",
   "metadata": {},
   "source": [
    "- Método title(): Exibe cada palavra da string com a primeira letra maiúscula"
   ]
  },
  {
   "cell_type": "code",
   "execution_count": 2,
   "metadata": {},
   "outputs": [
    {
     "name": "stdout",
     "output_type": "stream",
     "text": [
      "São Paulo\n"
     ]
    }
   ],
   "source": [
    "#Exemplo do método title\n",
    "cidade = \"são paulo\"\n",
    "print(cidade.title())"
   ]
  },
  {
   "cell_type": "markdown",
   "metadata": {},
   "source": [
    "- Método upper(): Exibe todas as letras da string com letras maiúsculas"
   ]
  },
  {
   "cell_type": "code",
   "execution_count": 3,
   "metadata": {},
   "outputs": [
    {
     "name": "stdout",
     "output_type": "stream",
     "text": [
      "SÃO PAULO\n"
     ]
    }
   ],
   "source": [
    "#Exemplo do método upper\n",
    "cidade = \"são paulo\"\n",
    "print(cidade.upper())"
   ]
  },
  {
   "cell_type": "markdown",
   "metadata": {},
   "source": [
    "- Método lower(): Exibe todas as letras da string com letras minúsculas"
   ]
  },
  {
   "cell_type": "code",
   "execution_count": 4,
   "metadata": {},
   "outputs": [
    {
     "name": "stdout",
     "output_type": "stream",
     "text": [
      "são paulo\n"
     ]
    }
   ],
   "source": [
    "#Exemplo do método lower\n",
    "cidade = \"SÃO PAULO\"\n",
    "print(cidade.lower())"
   ]
  },
  {
   "cell_type": "markdown",
   "metadata": {},
   "source": [
    "### Combinando ou concatenando strings"
   ]
  },
  {
   "cell_type": "markdown",
   "metadata": {},
   "source": [
    "- O símbolo + é utilizado para concatenar strings que estão separadas\n",
    "- Observa-se que a concatenação é direta, se houver necessidade de espaço esses devem ser inseridos diretamente."
   ]
  },
  {
   "cell_type": "code",
   "execution_count": 8,
   "metadata": {},
   "outputs": [
    {
     "name": "stdout",
     "output_type": "stream",
     "text": [
      "DavidLeal\n",
      "David Leal\n",
      "David Leal\n"
     ]
    }
   ],
   "source": [
    "#Exemplos de concatenações\n",
    "primeiro_nome = \"David\"\n",
    "sobrenome = \"Leal\"\n",
    "#Concatenação sem espaço\n",
    "print(primeiro_nome + sobrenome)\n",
    "#Concatenação com espaço\n",
    "print(primeiro_nome + \" \" + sobrenome)\n",
    "#Concatenação já na variável\n",
    "concatenado = primeiro_nome + \" \" + sobrenome\n",
    "print(concatenado)"
   ]
  },
  {
   "cell_type": "markdown",
   "metadata": {},
   "source": [
    "### Acrescentando espaços em branco em strings com tabulações ou quebras de linhas"
   ]
  },
  {
   "cell_type": "markdown",
   "metadata": {},
   "source": [
    "- \\t -> Acrescenta tabulação ao texto"
   ]
  },
  {
   "cell_type": "code",
   "execution_count": 9,
   "metadata": {},
   "outputs": [
    {
     "name": "stdout",
     "output_type": "stream",
     "text": [
      "Sem tabulação\n",
      "\tCom tabulação\n"
     ]
    }
   ],
   "source": [
    "#Exemplo de uso de \\t para tabulação\n",
    "print('Sem tabulação')\n",
    "print('\\tCom tabulação')"
   ]
  },
  {
   "cell_type": "markdown",
   "metadata": {},
   "source": [
    "- \\n -> Acrescenta uma quebra de linha a string"
   ]
  },
  {
   "cell_type": "code",
   "execution_count": 10,
   "metadata": {},
   "outputs": [
    {
     "name": "stdout",
     "output_type": "stream",
     "text": [
      "Sem quebra de linha\n",
      "Com \n",
      "quebra \n",
      "de \n",
      "linha\n"
     ]
    }
   ],
   "source": [
    "#Exemplo de uso de quebra de linha\n",
    "print('Sem quebra de linha')\n",
    "print('Com \\nquebra \\nde \\nlinha')"
   ]
  },
  {
   "cell_type": "markdown",
   "metadata": {},
   "source": [
    "### Removendo espaços em branco"
   ]
  },
  {
   "cell_type": "markdown",
   "metadata": {},
   "source": [
    "- Método rstrip(): Retira os espaços em branco que estão do lado direito da string\n",
    "- Método lstrip(): Retira os espaços em branco que estão do lado esquerdo da string\n",
    "- Método strip(): Retira os espaços em branco que estão de ambos os lados da string"
   ]
  },
  {
   "cell_type": "code",
   "execution_count": 27,
   "metadata": {},
   "outputs": [
    {
     "name": "stdout",
     "output_type": "stream",
     "text": [
      "Com espaço à esqueda:    STRING COM ESPAÇOS    : Com espaço à direita\n",
      "rstrip():    STRING COM ESPAÇOS :rstrip()\n",
      "lstrip(): STRING COM ESPAÇOS    :lstrip()\n",
      "strip(): STRING COM ESPAÇOS :strip()\n"
     ]
    }
   ],
   "source": [
    "string_com_espaço = '   STRING COM ESPAÇOS   '\n",
    "print('Com espaço à esqueda:', string_com_espaço , ': Com espaço à direita')\n",
    "#Exemplo de uso do método rstrip()\n",
    "print('rstrip():', string_com_espaço.rstrip(), ':rstrip()' )\n",
    "#Exemplo de uso do método lstrip()\n",
    "print('lstrip():', string_com_espaço.lstrip(), ':lstrip()')\n",
    "#Exemplo de uso do método strip()\n",
    "print('strip():', string_com_espaço.strip(), ':strip()')"
   ]
  },
  {
   "cell_type": "markdown",
   "metadata": {},
   "source": [
    "# Números"
   ]
  },
  {
   "cell_type": "code",
   "execution_count": null,
   "metadata": {},
   "outputs": [],
   "source": []
  },
  {
   "cell_type": "code",
   "execution_count": null,
   "metadata": {},
   "outputs": [],
   "source": []
  },
  {
   "cell_type": "code",
   "execution_count": null,
   "metadata": {},
   "outputs": [],
   "source": []
  },
  {
   "cell_type": "code",
   "execution_count": null,
   "metadata": {},
   "outputs": [],
   "source": []
  }
 ],
 "metadata": {
  "kernelspec": {
   "display_name": "Python 3.8.0 64-bit",
   "language": "python",
   "name": "python38064bitb849c0a730e2448087969cf3b1200bda"
  },
  "language_info": {
   "codemirror_mode": {
    "name": "ipython",
    "version": 3
   },
   "file_extension": ".py",
   "mimetype": "text/x-python",
   "name": "python",
   "nbconvert_exporter": "python",
   "pygments_lexer": "ipython3",
   "version": "3.8.0"
  }
 },
 "nbformat": 4,
 "nbformat_minor": 4
}
