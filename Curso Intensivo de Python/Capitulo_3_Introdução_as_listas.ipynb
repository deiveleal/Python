{
 "cells": [
  {
   "cell_type": "markdown",
   "metadata": {},
   "source": [
    "# Introdução às listas\n",
    "\n",
    "- Lista é um coleção de itens em uma ordem em particular.\n",
    "- Pode ser colocado qualquer tipo de informação em uma lista.\n",
    "- Os itens da lista não precisam ter relação entre si.\n",
    "- Por, em geral, ter mais de um elemento, as listas são nomeadas no plural, mas não é obrigatório.\n",
    "- Em Python colchetes ([]) indicam uma lista.\n",
    "- Os elementos individuais da lista são separados por vírgulas (,).\n",
    "- Uma lista não necessita ser previamente instanciada."
   ]
  },
  {
   "cell_type": "code",
   "execution_count": 1,
   "metadata": {},
   "outputs": [],
   "source": [
    "#Exemplo de lista\n",
    "exemplos_de_itens_na_lista = ['cama', 'mesa', 23, 3.8, 'muitas coisas']"
   ]
  },
  {
   "cell_type": "code",
   "execution_count": 2,
   "metadata": {
    "tags": []
   },
   "outputs": [
    {
     "output_type": "stream",
     "name": "stdout",
     "text": "['cama', 'mesa', 23, 3.8, 'muitas coisas']\n"
    }
   ],
   "source": [
    "print(exemplos_de_itens_na_lista)"
   ]
  },
  {
   "cell_type": "markdown",
   "metadata": {},
   "source": [
    "## Acessando elementos de uma lista"
   ]
  },
  {
   "cell_type": "code",
   "execution_count": null,
   "metadata": {},
   "outputs": [],
   "source": []
  }
 ],
 "metadata": {
  "kernelspec": {
   "display_name": "Python 3.8.2 32-bit",
   "language": "python",
   "name": "python38232bitebd7a553b98141c2b0cb352c3ff490c4"
  },
  "language_info": {
   "codemirror_mode": {
    "name": "ipython",
    "version": 3
   },
   "file_extension": ".py",
   "mimetype": "text/x-python",
   "name": "python",
   "nbconvert_exporter": "python",
   "pygments_lexer": "ipython3",
   "version": "3.8.2-final"
  }
 },
 "nbformat": 4,
 "nbformat_minor": 4
}